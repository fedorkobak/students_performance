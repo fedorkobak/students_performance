{
 "cells": [
  {
   "cell_type": "code",
   "execution_count": 5,
   "id": "f907c4c4",
   "metadata": {},
   "outputs": [],
   "source": [
    "import pandas as pd\n",
    "from pathlib import Path"
   ]
  },
  {
   "cell_type": "code",
   "execution_count": null,
   "id": "8e4d9759",
   "metadata": {},
   "outputs": [],
   "source": [
    "X = pd.read_parquet(Path()/\".tmp\"/\"train.parquet\")\n",
    "y = pd.read_parquet(Path()/\".tpm\"/\"train_labels.parquet\")"
   ]
  },
  {
   "cell_type": "code",
   "execution_count": 10,
   "id": "7cab3ed5",
   "metadata": {},
   "outputs": [
    {
     "data": {
      "text/plain": [
       "session_id\n",
       "20110310463989760    19032\n",
       "20110515090304556     6000\n",
       "21110313432157404     5435\n",
       "21010312074134348     4803\n",
       "20110219555923044     4743\n",
       "                     ...  \n",
       "21030218335394260      639\n",
       "21000013055772070      637\n",
       "21030108504475890      635\n",
       "20110112402567744      634\n",
       "22000610592348800      591\n",
       "Name: count, Length: 23562, dtype: int64"
      ]
     },
     "execution_count": 10,
     "metadata": {},
     "output_type": "execute_result"
    }
   ],
   "source": [
    "X[\"session_id\"].value_counts()"
   ]
  },
  {
   "cell_type": "code",
   "execution_count": 12,
   "id": "d558a60d",
   "metadata": {},
   "outputs": [
    {
     "data": {
      "text/plain": [
       "event_name\n",
       "navigate_click        11326433\n",
       "person_click           6052853\n",
       "cutscene_click         2703035\n",
       "object_click           2198211\n",
       "object_hover           1057085\n",
       "map_hover               945159\n",
       "notification_click      649001\n",
       "notebook_click          564544\n",
       "map_click               517242\n",
       "observation_click       212355\n",
       "checkpoint               71028\n",
       "Name: count, dtype: int64"
      ]
     },
     "execution_count": 12,
     "metadata": {},
     "output_type": "execute_result"
    }
   ],
   "source": [
    "X[\"event_name\"].value_counts()"
   ]
  }
 ],
 "metadata": {
  "kernelspec": {
   "display_name": "students-performance",
   "language": "python",
   "name": "python3"
  },
  "language_info": {
   "codemirror_mode": {
    "name": "ipython",
    "version": 3
   },
   "file_extension": ".py",
   "mimetype": "text/x-python",
   "name": "python",
   "nbconvert_exporter": "python",
   "pygments_lexer": "ipython3",
   "version": "3.12.9"
  }
 },
 "nbformat": 4,
 "nbformat_minor": 5
}
